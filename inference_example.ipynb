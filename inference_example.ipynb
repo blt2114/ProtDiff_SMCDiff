{
 "cells": [
  {
   "cell_type": "markdown",
   "id": "71e87748",
   "metadata": {
    "tags": []
   },
   "source": [
    "# Imports"
   ]
  },
  {
   "cell_type": "code",
   "execution_count": 1,
   "id": "3c7f753e",
   "metadata": {},
   "outputs": [],
   "source": [
    "import numpy as np\n",
    "import importlib\n",
    "import os\n",
    "import torch\n",
    "import GPUtil\n",
    "import ml_collections\n",
    "import time\n",
    "import matplotlib.pyplot as plt\n",
    "import tree\n",
    "from plotly.subplots import make_subplots\n",
    "\n",
    "from data import diffuser\n",
    "from data import utils as du\n",
    "from model import reverse_diffusion\n",
    "\n",
    "from experiments import torch_train_diffusion\n",
    "from analysis import plotting\n",
    "from analysis import utils as au\n",
    "\n",
    "torch.manual_seed(0)\n",
    "np.random.seed(0)"
   ]
  },
  {
   "cell_type": "code",
   "execution_count": 2,
   "id": "bc70eb0d-ff1b-4253-8824-9698d01aad7d",
   "metadata": {},
   "outputs": [
    {
     "name": "stdout",
     "output_type": "stream",
     "text": [
      "2\n"
     ]
    }
   ],
   "source": [
    "os.environ[\"CUDA_DEVICE_ORDER\"] = \"PCI_BUS_ID\"\n",
    "chosen_gpu = ''.join(\n",
    "    [str(x) for x in GPUtil.getAvailable(order='memory')])\n",
    "os.environ[\"CUDA_VISIBLE_DEVICES\"] = chosen_gpu\n",
    "print(chosen_gpu)"
   ]
  },
  {
   "cell_type": "markdown",
   "id": "8ea0c4f3",
   "metadata": {
    "tags": []
   },
   "source": [
    "### Set-up experiment"
   ]
  },
  {
   "cell_type": "code",
   "execution_count": 3,
   "id": "74072834",
   "metadata": {},
   "outputs": [
    {
     "name": "stdout",
     "output_type": "stream",
     "text": [
      "ckpt/checkpoint_1000000.pkl\n"
     ]
    }
   ],
   "source": [
    "# Read ckpt\n",
    "ckpt_dir = 'ckpt/'\n",
    "ckpt_path = os.path.join(ckpt_dir, os.listdir(ckpt_dir)[0]).replace('.pth', '.pkl')\n",
    "\n",
    "print(ckpt_path)\n",
    "ckpt_pkl = du.read_pkl(ckpt_path)\n",
    "ckpt_cfg = ckpt_pkl['cfg']\n",
    "ckpt_state = ckpt_pkl['exp_state']"
   ]
  },
  {
   "cell_type": "code",
   "execution_count": 4,
   "id": "f14a80dd",
   "metadata": {
    "tags": []
   },
   "outputs": [
    {
     "name": "stdout",
     "output_type": "stream",
     "text": [
      "\n"
     ]
    },
    {
     "data": {
      "text/plain": [
       "<All keys matched successfully>"
      ]
     },
     "execution_count": 4,
     "metadata": {},
     "output_type": "execute_result"
    }
   ],
   "source": [
    "# Set-up experiment\n",
    "\n",
    "data_setting = 'pdb'\n",
    "cfg = torch_train_diffusion.get_config()\n",
    "cfg = dict(cfg)\n",
    "cfg['experiment'].update(ckpt_cfg.experiment)\n",
    "cfg['experiment']['data_setting'] = data_setting\n",
    "cfg['model'].update(ckpt_cfg.model)\n",
    "\n",
    "# Pop unexpected model parameters\n",
    "cfg['model'] = dict(cfg['model'])\n",
    "cfg['model'].pop('cross_prod_num_neighbors')\n",
    "cfg['model'].pop('inpainting_training')\n",
    "cfg['model'].pop('num_heads')\n",
    "\n",
    "cfg = ml_collections.ConfigDict(cfg)\n",
    "cfg['data']['max_len'] = ckpt_cfg.data.max_len\n",
    "cfg['data']['inpainting_training'] = False\n",
    "cfg['data']['rmsd_filter'] = None\n",
    "cfg['data']['monomer_only'] = True\n",
    "print(cfg['data']['pdb_self_consistency_path'])\n",
    "\n",
    "\n",
    "exp_cfg = cfg['experiment']\n",
    "cfg['experiment']['batch_size'] = 4\n",
    "\n",
    "exp = torch_train_diffusion.Experiment(cfg)\n",
    "exp.model.load_state_dict(ckpt_state)"
   ]
  },
  {
   "cell_type": "markdown",
   "id": "9738de81",
   "metadata": {
    "tags": []
   },
   "source": [
    "### Sample"
   ]
  },
  {
   "cell_type": "code",
   "execution_count": 5,
   "id": "c09bbfd1-57a1-4db8-8b55-935348d4ee7f",
   "metadata": {},
   "outputs": [],
   "source": [
    "# Select number of samples and length of each sample\n",
    "batch_size = 4"
   ]
  },
  {
   "cell_type": "code",
   "execution_count": null,
   "id": "7c6449ec-a6ec-478b-b0a6-3759a69d95c4",
   "metadata": {},
   "outputs": [],
   "source": [
    "# Run sampling\n",
    "sample_dir = 'model_samples'\n",
    "os.makedirs(sample_dir, exist_ok=True)\n",
    "noise_scale = 1.\n",
    "for num_res_sample in [80]:\n",
    "    N = num_res_sample\n",
    "    bb_mask = np.zeros((batch_size, N))\n",
    "    bb_mask[:, :num_res_sample] = 1\n",
    "    \n",
    "    sampled_diffusion = exp.sample_reverse_diffusion(bb_mask)\n",
    "    \n",
    "    # Save reverse diffusion movies\n",
    "    for b_idx in range(batch_size):\n",
    "        save_path = f'{sample_dir}/len_{num_res_sample}_{b_idx}.pdb'\n",
    "        au.write_prot_to_pdb(sampled_diffusion[b_idx][-1], save_path, no_indexing=True)"
   ]
  },
  {
   "cell_type": "markdown",
   "id": "ef7e816d-7d2b-46f5-a7c3-db0d56bc802c",
   "metadata": {
    "jp-MarkdownHeadingCollapsed": true,
    "tags": []
   },
   "source": [
    "### Visualize samples"
   ]
  },
  {
   "cell_type": "code",
   "execution_count": null,
   "id": "0b1de384-bda3-406f-9483-d4a9cc207c89",
   "metadata": {},
   "outputs": [],
   "source": [
    "## Plot samples\n",
    "num_res = np.sum(bb_mask, axis=-1)\n",
    "nrows = int(np.sqrt(batch_size))\n",
    "ncols = nrows\n",
    "fig = make_subplots(\n",
    "    rows=nrows, cols=ncols,\n",
    "    specs=[[{'type': 'surface'}] * nrows]*ncols)\n",
    "\n",
    "# Take last time step\n",
    "last_sample = [x[-1] for x in sampled_diffusion]\n",
    "fig.update_layout(\n",
    "    title_text=f'Samples',\n",
    "    height=1000,\n",
    "    width=1000,\n",
    ")\n",
    "for i in range(nrows):\n",
    "    for j in range(ncols):\n",
    "        b_idx = i*nrows+j\n",
    "        sample_ij = last_sample[b_idx]\n",
    "        sample_bb_3d = plotting.create_scatter(\n",
    "            sample_ij, mode='lines+markers', marker_size=3,\n",
    "            opacity=1.0, name=f'Sample {i*nrows+j}: length={num_res[b_idx]}')\n",
    "        fig.add_trace(sample_bb_3d, row=i+1, col=j+1)\n",
    "        \n",
    "fig.show()"
   ]
  },
  {
   "cell_type": "markdown",
   "id": "7761832b",
   "metadata": {},
   "source": [
    "# Conditional sampling test"
   ]
  },
  {
   "cell_type": "code",
   "execution_count": 6,
   "id": "eb3fc265",
   "metadata": {},
   "outputs": [
    {
     "data": {
      "text/plain": [
       "<module 'inpainting.motif_problems' from '/data/rsg/chemistry/jyim/projects/ProtDiff_SMCDiff/inpainting/motif_problems.py'>"
      ]
     },
     "execution_count": 6,
     "metadata": {},
     "output_type": "execute_result"
    }
   ],
   "source": [
    "from inpainting import motif_problems\n",
    "from inpainting import inpaint_experiment\n",
    "importlib.reload(motif_problems)"
   ]
  },
  {
   "cell_type": "code",
   "execution_count": 7,
   "id": "116a9c24-e9bb-405a-a56d-494a7077045f",
   "metadata": {},
   "outputs": [],
   "source": [
    "sample_dir = \"inpaint_test_out/\"\n",
    "os.makedirs(sample_dir, exist_ok=True)"
   ]
  },
  {
   "cell_type": "code",
   "execution_count": 13,
   "id": "6e1c7030",
   "metadata": {},
   "outputs": [],
   "source": [
    "# 6e6r test\n",
    "name = \"6e6r\"\n",
    "motif_start, motif_end = 10, 52\n",
    "pdb_name, target_len, motif_ca_xyz, full_ca_xyz_true, motif_idcs, inpainting_task_name = \\\n",
    "    motif_problems.load_pdb_motif_problem(motif_start, motif_end, pdb_name=name, base_dir=\"./\")"
   ]
  },
  {
   "cell_type": "code",
   "execution_count": null,
   "id": "3a854334",
   "metadata": {},
   "outputs": [],
   "source": [
    "# Test with replacement method\n",
    "out = inpaint_experiment.run_inpainting(\n",
    "    exp, target_len, motif_ca_xyz, motif_idcs, exp.diffuser,\n",
    "    T=exp.cfg.experiment.T, N_samples_per_diffusion=4, inpainting_task_name=\"test\", output_dir=sample_dir,\n",
    "    inpaint_method=\"replacement\", num_save=4)"
   ]
  },
  {
   "cell_type": "code",
   "execution_count": null,
   "id": "592340ff",
   "metadata": {},
   "outputs": [],
   "source": [
    "# Test with SMC-Diff\n",
    "out = inpaint_experiment.run_inpainting(\n",
    "    exp, target_len, motif_ca_xyz, motif_idcs, exp.diffuser,\n",
    "    T=exp.cfg.experiment.T, N_samples_per_diffusion=64, inpainting_task_name=\"test\",\n",
    "    output_dir=sample_dir, inpaint_method=\"particle\", num_save=4)"
   ]
  },
  {
   "cell_type": "code",
   "execution_count": null,
   "id": "c7dff37c",
   "metadata": {},
   "outputs": [],
   "source": [
    "# 5trv scaffolding test\n",
    "name = \"5trv\"\n",
    "pad = 20\n",
    "motif_start, motif_end = 42, 62 # minimal\n",
    "motif_start, motif_end = motif_start-pad, motif_end+pad\n",
    "pdb_name, target_len, motif_ca_xyz, full_ca_xyz_true, motif_idcs, inpainting_task_name = \\\n",
    "    motif_problems.load_pdb_motif_problem(motif_start, motif_end, pdb_name=name, base_dir=\"./\")\n",
    "out = inpaint_experiment.run_inpainting(\n",
    "    exp, target_len, motif_ca_xyz, motif_idcs, exp.diffuser,\n",
    "    T=exp.cfg.experiment.T, N_samples_per_diffusion=64, inpainting_task_name=inpainting_task_name,\n",
    "    output_dir=sample_dir, inpaint_method=\"particle\", num_save=1)"
   ]
  },
  {
   "cell_type": "code",
   "execution_count": null,
   "id": "39b32038-defd-4d69-9932-0fb760020cb0",
   "metadata": {},
   "outputs": [],
   "source": []
  }
 ],
 "metadata": {
  "kernelspec": {
   "display_name": "Python 3 (ipykernel)",
   "language": "python",
   "name": "python3"
  },
  "language_info": {
   "codemirror_mode": {
    "name": "ipython",
    "version": 3
   },
   "file_extension": ".py",
   "mimetype": "text/x-python",
   "name": "python",
   "nbconvert_exporter": "python",
   "pygments_lexer": "ipython3",
   "version": "3.8.12"
  }
 },
 "nbformat": 4,
 "nbformat_minor": 5
}
